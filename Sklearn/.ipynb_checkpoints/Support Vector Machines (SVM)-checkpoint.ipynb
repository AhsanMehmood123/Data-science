{
 "cells": [
  {
   "cell_type": "code",
   "execution_count": 1,
   "id": "df65ee58",
   "metadata": {},
   "outputs": [
    {
     "data": {
      "text/plain": [
       "'A telecomunication company wants to reduce customer churn\\nby identifing customer at risk of leaving. they have historical data on \\ncustomer behavior and want to build a model to predict which customer are most \\nlikely to churn'"
      ]
     },
     "execution_count": 1,
     "metadata": {},
     "output_type": "execute_result"
    }
   ],
   "source": [
    "#problem statment\n",
    "\n",
    "'''A telecomunication company wants to reduce customer churn\n",
    "by identifing customer at risk of leaving. they have historical data on \n",
    "customer behavior and want to build a model to predict which customer are most \n",
    "likely to churn'''"
   ]
  },
  {
   "cell_type": "code",
   "execution_count": 5,
   "id": "0cbf1a88",
   "metadata": {},
   "outputs": [],
   "source": [
    "import numpy as np\n",
    "import pandas as pd\n",
    "from sklearn.model_selection import train_test_split\n",
    "from sklearn.svm import SVC  # svc = support vector classifier \n",
    "from sklearn.metrics import accuracy_score, classification_report "
   ]
  },
  {
   "cell_type": "code",
   "execution_count": 13,
   "id": "24edd1bf",
   "metadata": {},
   "outputs": [
    {
     "name": "stdout",
     "output_type": "stream",
     "text": [
      "   Age  Monthle_charge  churn\n",
      "0   30              50      0\n",
      "1   25              60      1\n",
      "2   35              80      0\n",
      "3   20              40      1\n",
      "4   40             100      0\n",
      "5   55             120      1\n",
      "6   32              70      0\n",
      "7   28              55      1\n"
     ]
    }
   ],
   "source": [
    "#step 2 preparation of data\n",
    "\n",
    "data = {'Age' : [30,25,35,20,40,55,32,28],\n",
    "       'Monthle_charge': [50,60,80,40,100,120,70,55],\n",
    "       'churn': [0,1,0,1,0,1,0,1]}\n",
    "df = pd.DataFrame(data)\n",
    "print(df)"
   ]
  },
  {
   "cell_type": "code",
   "execution_count": 12,
   "id": "65f83c8a",
   "metadata": {},
   "outputs": [],
   "source": [
    "X = df[['Age','Monthle_charge']]\n",
    "y = df[['churn']]"
   ]
  },
  {
   "cell_type": "code",
   "execution_count": 14,
   "id": "10c44d99",
   "metadata": {},
   "outputs": [],
   "source": [
    "#step # 3\n",
    "X_train, X_test, y_train, y_test = train_test_split(X,y, test_size=0.2, random_state=42)"
   ]
  },
  {
   "cell_type": "code",
   "execution_count": null,
   "id": "97f0e096",
   "metadata": {},
   "outputs": [],
   "source": [
    "#step # 4\n",
    "SVC()"
   ]
  }
 ],
 "metadata": {
  "kernelspec": {
   "display_name": "Python 3 (ipykernel)",
   "language": "python",
   "name": "python3"
  },
  "language_info": {
   "codemirror_mode": {
    "name": "ipython",
    "version": 3
   },
   "file_extension": ".py",
   "mimetype": "text/x-python",
   "name": "python",
   "nbconvert_exporter": "python",
   "pygments_lexer": "ipython3",
   "version": "3.11.5"
  }
 },
 "nbformat": 4,
 "nbformat_minor": 5
}
