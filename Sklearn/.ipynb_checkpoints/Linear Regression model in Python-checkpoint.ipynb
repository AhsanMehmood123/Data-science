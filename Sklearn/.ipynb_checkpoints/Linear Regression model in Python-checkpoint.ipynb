{
 "cells": [
  {
   "cell_type": "code",
   "execution_count": 1,
   "id": "a343559c",
   "metadata": {},
   "outputs": [
    {
     "name": "stdout",
     "output_type": "stream",
     "text": [
      "Enter the number of over you study: 7\n",
      "predicted exam score: [[83.33333333]]\n"
     ]
    },
    {
     "name": "stderr",
     "output_type": "stream",
     "text": [
      "C:\\Users\\mtalh\\anaconda3\\Lib\\site-packages\\sklearn\\base.py:464: UserWarning: X does not have valid feature names, but LinearRegression was fitted with feature names\n",
      "  warnings.warn(\n"
     ]
    }
   ],
   "source": [
    "'''problem statment\n",
    "predict a student final score on the bases of the number of hours they study\n",
    "'''\n",
    "\n",
    "import numpy as np # because data is numeric\n",
    "import pandas as pd # b/c data in table form mean data frame\n",
    "from sklearn.model_selection import train_test_split # for training and testing but it perfom on some model\n",
    "from sklearn.linear_model import LinearRegression # here we import model according to req of datfram\n",
    "\n",
    "#step two\n",
    "ahsandata = {'Hours_study': [2,3,4,5,6,7,8,90,10],\n",
    "            'Exam_score': [50,60,70,75,80,85,90,92,95]} # linear regression is lya use kya ha is main grouth ho rahy ha\n",
    "\n",
    "#step three\n",
    "df = pd.DataFrame(ahsandata)\n",
    "#print(df)\n",
    "# in table Hours_study and Exam_score are called fetuers instead of colums\n",
    "\n",
    "#step 4\n",
    "#extract featuer from data set\n",
    "x = df[['Hours_study']]\n",
    "y = df[['Exam_score']]\n",
    "\n",
    "#step 5\n",
    "# we con do tran and test (we can train 80% and 20% persent for testing of data)\n",
    "x_train, x_test, y_train, y_test = train_test_split(x,y, test_size=0.2, random_state=42) \n",
    "\n",
    "#step 6\n",
    "model = LinearRegression() #creating instance of linear regression model ka jis ko model ky variable sy call kar saky\n",
    "\n",
    "#step 7\n",
    "model.fit(x_train,y_train) \n",
    "\n",
    "#user input testing\n",
    "user_input = float(input(\"Enter the number of over you study: \"))\n",
    "\n",
    "predicted_score = model.predict([[user_input]])\n",
    "\n",
    "#printing the output\n",
    "print(f\"predicted exam score: {predicted_score}\")"
   ]
  },
  {
   "cell_type": "code",
   "execution_count": 22,
   "id": "0436326b",
   "metadata": {},
   "outputs": [
    {
     "data": {
      "text/plain": [
       "array([[537.85714286],\n",
       "       [ 61.42857143]])"
      ]
     },
     "execution_count": 22,
     "metadata": {},
     "output_type": "execute_result"
    }
   ],
   "source": [
    "model.predict(x_test)"
   ]
  },
  {
   "cell_type": "code",
   "execution_count": null,
   "id": "3b970223",
   "metadata": {},
   "outputs": [],
   "source": []
  },
  {
   "cell_type": "code",
   "execution_count": null,
   "id": "21d7d07c",
   "metadata": {},
   "outputs": [],
   "source": []
  }
 ],
 "metadata": {
  "kernelspec": {
   "display_name": "Python 3 (ipykernel)",
   "language": "python",
   "name": "python3"
  },
  "language_info": {
   "codemirror_mode": {
    "name": "ipython",
    "version": 3
   },
   "file_extension": ".py",
   "mimetype": "text/x-python",
   "name": "python",
   "nbconvert_exporter": "python",
   "pygments_lexer": "ipython3",
   "version": "3.11.5"
  }
 },
 "nbformat": 4,
 "nbformat_minor": 5
}
