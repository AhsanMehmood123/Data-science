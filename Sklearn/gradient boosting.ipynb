{
 "cells": [
  {
   "cell_type": "code",
   "execution_count": 1,
   "id": "14395baa",
   "metadata": {},
   "outputs": [
    {
     "data": {
      "text/plain": [
       "'create a predictive model using gradient boosting to forecast housing prices based on various features such as \\nsquare footage, number of bedrooms, number of bathroom and location......\\n'"
      ]
     },
     "execution_count": 1,
     "metadata": {},
     "output_type": "execute_result"
    }
   ],
   "source": [
    "#problem statment\n",
    "'''create a predictive model using gradient boosting to forecast housing prices based on various features such as \n",
    "square footage, number of bedrooms, number of bathroom and location......\n",
    "'''"
   ]
  },
  {
   "cell_type": "code",
   "execution_count": 100,
   "id": "087ca307",
   "metadata": {},
   "outputs": [
    {
     "name": "stdout",
     "output_type": "stream",
     "text": [
      "   square_footage  number_of_bedrooms  number_of_bathroom location  Pricees\n",
      "0            1500                   3                 2.0   suburb   250000\n",
      "1            2000                   4                 2.5     city   300000\n",
      "2            1200                   2                 1.5    rural   180000\n",
      "3            1800                   3                 2.0     city   280000\n",
      "4            1350                   3                 2.0   suburb   220000\n",
      "400050468.2496885\n",
      "Enter the detail for house pridiction: \n",
      "Enter square footage: 1500\n",
      "Enter number of bedrooms: 2\n",
      "Enter number of bathroom: 2\n",
      "Enter location (suburb, city, rural): city\n",
      "Predicted price for the house: 268640.0754668826\n"
     ]
    }
   ],
   "source": [
    "#import numpy as np\n",
    "import pandas as pd\n",
    "from sklearn.model_selection import train_test_split\n",
    "from sklearn.ensemble import GradientBoostingRegressor\n",
    "from sklearn.metrics import  mean_squared_error\n",
    "\n",
    "\n",
    "#step 2\n",
    "data = {'square_footage' : [1500,2000,1200,1800,1350],\n",
    "       'number_of_bedrooms': [3,4,2,3,3],\n",
    "        'number_of_bathroom':  [2,2.5,1.5,2,2],\n",
    "        'location': ['suburb','city','rural','city','suburb'],\n",
    "        'Pricees' : [250000,300000,180000,280000,220000]\n",
    "       }\n",
    "        \n",
    "\n",
    "df = pd.DataFrame(data)\n",
    "print(df)\n",
    "\n",
    "# converting the location colum to dummy\n",
    "df = pd.get_dummies(df,columns=['location'])\n",
    "\n",
    "X = df.drop('Pricees', axis=1)\n",
    "y = df['Pricees']\n",
    "\n",
    "X_train,X_test,y_train,y_test = train_test_split(X,y, test_size=0.2, random_state=42)\n",
    "\n",
    "model = GradientBoostingRegressor()\n",
    "\n",
    "model.fit(X_train,y_train)\n",
    "\n",
    "y_pred = model.predict(X_test)\n",
    "\n",
    "mse = mean_squared_error(y_test,y_pred)\n",
    "print(mse)\n",
    "\n",
    "# user input\n",
    "print(\"Enter the detail for house pridiction: \")\n",
    "sq_footage = float(input(\"Enter square footage: \"))\n",
    "bedrooms = int(input(\"Enter number of bedrooms: \"))\n",
    "bathroom = float(input(\"Enter number of bathroom: \"))\n",
    "Location = input(\"Enter location (suburb, city, rural): \")\n",
    "\n",
    "input_location = [0,0,0]\n",
    "if Location == 'suburb':\n",
    "    input_location[0] = 1\n",
    "elif Location == 'city':\n",
    "    input_location[1] = 1\n",
    "elif Location == 'rural':\n",
    "    input_location[2] = 1\n",
    "\n",
    "user_input = pd.DataFrame({'square_footage': [sq_footage],\n",
    "                           'number_of_bedrooms': [bedrooms],\n",
    "                           'number_of_bathroom': [bathroom],  # Corrected column name\n",
    "                           'location_city': [input_location[1]],  # Corrected column name to lowercase\n",
    "                           'location_rural': [input_location[2]],  # Corrected column name to lowercase\n",
    "                           'location_suburb': [input_location[0]]  # Corrected column name to lowercase\n",
    "                          })\n",
    "\n",
    "# make prediction\n",
    "\n",
    "predicted_price = model.predict(user_input)\n",
    "print(f\"Predicted price for the house: {predicted_price[0]}\")"
   ]
  },
  {
   "cell_type": "code",
   "execution_count": null,
   "id": "02a07d82",
   "metadata": {},
   "outputs": [],
   "source": []
  }
 ],
 "metadata": {
  "kernelspec": {
   "display_name": "Python 3 (ipykernel)",
   "language": "python",
   "name": "python3"
  },
  "language_info": {
   "codemirror_mode": {
    "name": "ipython",
    "version": 3
   },
   "file_extension": ".py",
   "mimetype": "text/x-python",
   "name": "python",
   "nbconvert_exporter": "python",
   "pygments_lexer": "ipython3",
   "version": "3.11.5"
  }
 },
 "nbformat": 4,
 "nbformat_minor": 5
}
