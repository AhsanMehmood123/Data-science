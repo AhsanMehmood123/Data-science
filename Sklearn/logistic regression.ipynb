{
 "cells": [
  {
   "cell_type": "code",
   "execution_count": 1,
   "id": "37516036",
   "metadata": {},
   "outputs": [
    {
     "data": {
      "text/plain": [
       "'In an e-commerce company, the mangement want to predict wheter acustomer will purchase a high value product based on their \\nage , timespent on the website, and wheter they have added items to their cart. the goal is to optimize marketing strategies \\nby targetiing pot\\n'"
      ]
     },
     "execution_count": 1,
     "metadata": {},
     "output_type": "execute_result"
    }
   ],
   "source": [
    "#superwise learning ha\n",
    "#problem statement\n",
    "'''In an e-commerce company, the mangement want to predict wheter acustomer will purchase a high value product based on their \n",
    "age , timespent on the website, and wheter they have added items to their cart. the goal is to optimize marketing strategies \n",
    "by targetiing pot\n",
    "'''"
   ]
  },
  {
   "cell_type": "code",
   "execution_count": 1,
   "id": "d009c8e4",
   "metadata": {},
   "outputs": [
    {
     "name": "stdout",
     "output_type": "stream",
     "text": [
      "model accuracy : 1.0\n",
      "Enter your age: 20\n",
      "Enter time spent on website: 30\n",
      "Enter 1 if added to cart else enter 0 : 1\n",
      "the customer is unlikely to purchase\n"
     ]
    }
   ],
   "source": [
    "import numpy as np\n",
    "from sklearn.model_selection import train_test_split\n",
    "from sklearn.linear_model import LogisticRegression\n",
    "X = np.array([[25,30,0], [30,40,1], [20,35,0], [35,45,1]])# first is age then tme then yes/no (this a data)\\\n",
    "#(X is featuer matrics)\n",
    "Y = np.array([0,1,0,1])\n",
    "\n",
    "X_train,X_test,Y_train,Y_test = train_test_split(X,Y, test_size=0.2, random_state=42)\n",
    "model = LogisticRegression()\n",
    "\n",
    "model.fit(X_train,Y_train)\n",
    "\n",
    "accuracy = model.score(X_test,Y_test) # we test the model here\n",
    "\n",
    "print(f\"model accuracy : {accuracy}\")\n",
    "\n",
    "user_age = float(input(\"Enter your age: \"))\n",
    "\n",
    "user_time_spent = float(input(\"Enter time spent on website: \"))\n",
    "\n",
    "user_addedto_cart = int(input(\"Enter 1 if added to cart else enter 0 : \"))\n",
    "\n",
    "user_data = np.array([[user_age, user_time_spent, user_addedto_cart]])\n",
    "\n",
    "prediction = model.predict(user_data) #model ki testing ho rahy ha\n",
    "\n",
    "if prediction[0] == 1:\n",
    "    print(\"the cumtomer is likely to purchase\")\n",
    "else:\n",
    "    print(\"the customer is unlikely to purchase\")"
   ]
  },
  {
   "cell_type": "code",
   "execution_count": null,
   "id": "edc4c87a",
   "metadata": {},
   "outputs": [],
   "source": []
  }
 ],
 "metadata": {
  "kernelspec": {
   "display_name": "Python 3 (ipykernel)",
   "language": "python",
   "name": "python3"
  },
  "language_info": {
   "codemirror_mode": {
    "name": "ipython",
    "version": 3
   },
   "file_extension": ".py",
   "mimetype": "text/x-python",
   "name": "python",
   "nbconvert_exporter": "python",
   "pygments_lexer": "ipython3",
   "version": "3.11.5"
  }
 },
 "nbformat": 4,
 "nbformat_minor": 5
}
